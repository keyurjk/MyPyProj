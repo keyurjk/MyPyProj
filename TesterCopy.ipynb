!pip install pyfolio
#-------------
# Import pandas_datareader
import pandas as pd
import pandas_datareader as pdr
import pyfolio as pf
import numpy as np
# Import matplotlib
import matplotlib.pyplot as plt
%matplotlib inline

# Get the data for Nasdaq Composite
data = pdr.get_data_yahoo('^NSEI', '2010-1-1', '2021-5-10')

# Print last 2 rows of the data
data.tail(2)
#-------------

# Plot the Close Price
# Call the plot method
data['Adj Close'].plot(figsize=(10, 7), grid=True)
plt.show()
#-------------

# Previous day close to today's open
data['overnight_gap'] = (
    data['Open']-data['Close'].shift(1))/data['Close'].shift(1)

# Open to Close
data['intraday_returns'] = (data['Close']-data['Open'])/data['Open']

# Open-Close
data['intraday_short_returns'] = (data['Open']-data['Close'])/data['Open']

data.head(3)
#-------------
'''
Strategy: If overnight gap is between -1 to -2%, go long on open PP and exit at close pp, no strict SL.
Go short, if overnight gap is > +2%.
'''
# Define your conditions on which you want to trade
cond_1 = data.overnight_gap < -0.01
cond_2 = data.overnight_gap > -0.02
cond_3 = data.overnight_gap > 0.02


# Store it in the signal columns of dataframe data
data['signal'] = np.where(cond_1 & cond_2, 1, 0)
no_signal = data.signal == 0
data['signal2'] = np.where(no_signal & cond_3, 2, 0)

data.head()
#-------------

data.loc[data.signal==1].head()
#-------------
data.loc[data.signal==1].describe()
#-------------
data.loc[data.signal2==2].head()
#-------------
data.loc[data.signal2==2].describe()
#-------------
# Compute the strategy returns
strategy_returns = (data.signal * data.intraday_returns) + (data.signal2 * data.intraday_short_returns)

#-------------
# Plot the cumulative strategy returns
(strategy_returns+1).cumprod().plot(figsize=(10, 7), grid=True)
plt.xlabel('Year')
plt.ylabel('Cumulative Strategy Returns')
plt.show()

#-------------
# Detailed performance analysis

pf.create_simple_tear_sheet(strategy_returns)

#-------------
